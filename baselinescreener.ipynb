{
 "cells": [
  {
   "cell_type": "markdown",
   "id": "e4a34750-1651-4422-adda-18fca7f63027",
   "metadata": {},
   "source": [
    "## Baseline Classifier with CountVec and SVC"
   ]
  },
  {
   "cell_type": "code",
   "execution_count": 189,
   "id": "d06271a5-3947-4927-b27a-19492b8ad47b",
   "metadata": {},
   "outputs": [],
   "source": [
    "# imports\n",
    "from sklearn.feature_extraction.text import CountVectorizer\n",
    "from sklearn.svm import SVC\n",
    "from sklearn.pipeline import Pipeline, make_pipeline"
   ]
  },
  {
   "cell_type": "code",
   "execution_count": 190,
   "id": "e6b8900e-9434-470e-a406-7823612421a4",
   "metadata": {},
   "outputs": [
    {
     "data": {
      "text/html": [
       "<div>\n",
       "<style scoped>\n",
       "    .dataframe tbody tr th:only-of-type {\n",
       "        vertical-align: middle;\n",
       "    }\n",
       "\n",
       "    .dataframe tbody tr th {\n",
       "        vertical-align: top;\n",
       "    }\n",
       "\n",
       "    .dataframe thead th {\n",
       "        text-align: right;\n",
       "    }\n",
       "</style>\n",
       "<table border=\"1\" class=\"dataframe\">\n",
       "  <thead>\n",
       "    <tr style=\"text-align: right;\">\n",
       "      <th></th>\n",
       "      <th>questions</th>\n",
       "      <th>answers</th>\n",
       "      <th>depressed</th>\n",
       "    </tr>\n",
       "  </thead>\n",
       "  <tbody>\n",
       "    <tr>\n",
       "      <th>0</th>\n",
       "      <td>Over the last two weeks, how often have you be...</td>\n",
       "      <td>It's more the restless thing for me. I can't s...</td>\n",
       "      <td>0</td>\n",
       "    </tr>\n",
       "    <tr>\n",
       "      <th>1</th>\n",
       "      <td>Over the last two weeks, how often have you be...</td>\n",
       "      <td>Sometimes I feel like I'm moving in slow motio...</td>\n",
       "      <td>0</td>\n",
       "    </tr>\n",
       "    <tr>\n",
       "      <th>2</th>\n",
       "      <td>Over the last two weeks, how often have you be...</td>\n",
       "      <td>I'm actually eating pretty healthy lately and ...</td>\n",
       "      <td>1</td>\n",
       "    </tr>\n",
       "    <tr>\n",
       "      <th>3</th>\n",
       "      <td>Over the last two weeks, how often have you be...</td>\n",
       "      <td>No, definitely not something I've been dealing...</td>\n",
       "      <td>1</td>\n",
       "    </tr>\n",
       "    <tr>\n",
       "      <th>4</th>\n",
       "      <td>Over the last two weeks, how often have you be...</td>\n",
       "      <td>I'm as sharp as a tack, haven't had any issues...</td>\n",
       "      <td>1</td>\n",
       "    </tr>\n",
       "    <tr>\n",
       "      <th>...</th>\n",
       "      <td>...</td>\n",
       "      <td>...</td>\n",
       "      <td>...</td>\n",
       "    </tr>\n",
       "    <tr>\n",
       "      <th>121</th>\n",
       "      <td>Over the last two weeks, how often have you be...</td>\n",
       "      <td>Not at all! I like to keep a positive outlook ...</td>\n",
       "      <td>1</td>\n",
       "    </tr>\n",
       "    <tr>\n",
       "      <th>122</th>\n",
       "      <td>Over the last two weeks, how often have you be...</td>\n",
       "      <td>Honestly, pretty often. Sometimes it feels lik...</td>\n",
       "      <td>0</td>\n",
       "    </tr>\n",
       "    <tr>\n",
       "      <th>123</th>\n",
       "      <td>Over the last two weeks, how often have you be...</td>\n",
       "      <td>I don't really feel excited about anything.\\n</td>\n",
       "      <td>0</td>\n",
       "    </tr>\n",
       "    <tr>\n",
       "      <th>124</th>\n",
       "      <td>Over the last two weeks, how often have you be...</td>\n",
       "      <td>Honestly, not at all. I've been having a blast...</td>\n",
       "      <td>1</td>\n",
       "    </tr>\n",
       "    <tr>\n",
       "      <th>125</th>\n",
       "      <td>Over the last two weeks, how often have you be...</td>\n",
       "      <td>Not really, but sometimes I do stay up late pl...</td>\n",
       "      <td>1</td>\n",
       "    </tr>\n",
       "  </tbody>\n",
       "</table>\n",
       "<p>126 rows × 3 columns</p>\n",
       "</div>"
      ],
      "text/plain": [
       "                                             questions   \n",
       "0    Over the last two weeks, how often have you be...  \\\n",
       "1    Over the last two weeks, how often have you be...   \n",
       "2    Over the last two weeks, how often have you be...   \n",
       "3    Over the last two weeks, how often have you be...   \n",
       "4    Over the last two weeks, how often have you be...   \n",
       "..                                                 ...   \n",
       "121  Over the last two weeks, how often have you be...   \n",
       "122  Over the last two weeks, how often have you be...   \n",
       "123  Over the last two weeks, how often have you be...   \n",
       "124  Over the last two weeks, how often have you be...   \n",
       "125  Over the last two weeks, how often have you be...   \n",
       "\n",
       "                                               answers  depressed  \n",
       "0    It's more the restless thing for me. I can't s...          0  \n",
       "1    Sometimes I feel like I'm moving in slow motio...          0  \n",
       "2    I'm actually eating pretty healthy lately and ...          1  \n",
       "3    No, definitely not something I've been dealing...          1  \n",
       "4    I'm as sharp as a tack, haven't had any issues...          1  \n",
       "..                                                 ...        ...  \n",
       "121  Not at all! I like to keep a positive outlook ...          1  \n",
       "122  Honestly, pretty often. Sometimes it feels lik...          0  \n",
       "123      I don't really feel excited about anything.\\n          0  \n",
       "124  Honestly, not at all. I've been having a blast...          1  \n",
       "125  Not really, but sometimes I do stay up late pl...          1  \n",
       "\n",
       "[126 rows x 3 columns]"
      ]
     },
     "execution_count": 190,
     "metadata": {},
     "output_type": "execute_result"
    }
   ],
   "source": [
    "# Read in CGPT generated data, shffle\n",
    "df = pd.read_csv(\"screeningtxt.csv\").sample(frac=1).reset_index(drop=True)\n",
    "df"
   ]
  },
  {
   "cell_type": "code",
   "execution_count": 191,
   "id": "f65f9f25-a744-426a-b86b-ab50815e026f",
   "metadata": {},
   "outputs": [],
   "source": [
    "# 20 rows validation set, 106 rows training set\n",
    "val_df = df.iloc[:20]\n",
    "train_df = df.iloc[20:]"
   ]
  },
  {
   "cell_type": "code",
   "execution_count": 192,
   "id": "777eb09f-d91a-4a36-aeec-fc821a315c6b",
   "metadata": {},
   "outputs": [],
   "source": [
    "# Split text, labels\n",
    "X_train, y_train = train_df[\"answers\"], train_df[\"depressed\"]\n",
    "X_val, y_val = val_df[\"answers\"], val_df[\"depressed\"]"
   ]
  },
  {
   "cell_type": "markdown",
   "id": "b5930b82-9f3c-41a9-ac70-0e52ce319a34",
   "metadata": {},
   "source": [
    "## Bigram CV, SVC with default params"
   ]
  },
  {
   "cell_type": "code",
   "execution_count": 193,
   "id": "60db9048-8a9b-49c0-aa75-578b60e7d809",
   "metadata": {},
   "outputs": [],
   "source": [
    "cv = CountVectorizer(ngram_range=(1, 2))\n",
    "model = SVC()"
   ]
  },
  {
   "cell_type": "code",
   "execution_count": 194,
   "id": "884bef63-2322-4f2b-be08-f796d4703a6f",
   "metadata": {},
   "outputs": [],
   "source": [
    "pipeline = make_pipeline(cv, model)"
   ]
  },
  {
   "cell_type": "code",
   "execution_count": 195,
   "id": "8b2c07dd-7f14-47ac-a47e-01e733e5c60e",
   "metadata": {},
   "outputs": [
    {
     "data": {
      "text/html": [
       "<style>#sk-container-id-6 {color: black;background-color: white;}#sk-container-id-6 pre{padding: 0;}#sk-container-id-6 div.sk-toggleable {background-color: white;}#sk-container-id-6 label.sk-toggleable__label {cursor: pointer;display: block;width: 100%;margin-bottom: 0;padding: 0.3em;box-sizing: border-box;text-align: center;}#sk-container-id-6 label.sk-toggleable__label-arrow:before {content: \"▸\";float: left;margin-right: 0.25em;color: #696969;}#sk-container-id-6 label.sk-toggleable__label-arrow:hover:before {color: black;}#sk-container-id-6 div.sk-estimator:hover label.sk-toggleable__label-arrow:before {color: black;}#sk-container-id-6 div.sk-toggleable__content {max-height: 0;max-width: 0;overflow: hidden;text-align: left;background-color: #f0f8ff;}#sk-container-id-6 div.sk-toggleable__content pre {margin: 0.2em;color: black;border-radius: 0.25em;background-color: #f0f8ff;}#sk-container-id-6 input.sk-toggleable__control:checked~div.sk-toggleable__content {max-height: 200px;max-width: 100%;overflow: auto;}#sk-container-id-6 input.sk-toggleable__control:checked~label.sk-toggleable__label-arrow:before {content: \"▾\";}#sk-container-id-6 div.sk-estimator input.sk-toggleable__control:checked~label.sk-toggleable__label {background-color: #d4ebff;}#sk-container-id-6 div.sk-label input.sk-toggleable__control:checked~label.sk-toggleable__label {background-color: #d4ebff;}#sk-container-id-6 input.sk-hidden--visually {border: 0;clip: rect(1px 1px 1px 1px);clip: rect(1px, 1px, 1px, 1px);height: 1px;margin: -1px;overflow: hidden;padding: 0;position: absolute;width: 1px;}#sk-container-id-6 div.sk-estimator {font-family: monospace;background-color: #f0f8ff;border: 1px dotted black;border-radius: 0.25em;box-sizing: border-box;margin-bottom: 0.5em;}#sk-container-id-6 div.sk-estimator:hover {background-color: #d4ebff;}#sk-container-id-6 div.sk-parallel-item::after {content: \"\";width: 100%;border-bottom: 1px solid gray;flex-grow: 1;}#sk-container-id-6 div.sk-label:hover label.sk-toggleable__label {background-color: #d4ebff;}#sk-container-id-6 div.sk-serial::before {content: \"\";position: absolute;border-left: 1px solid gray;box-sizing: border-box;top: 0;bottom: 0;left: 50%;z-index: 0;}#sk-container-id-6 div.sk-serial {display: flex;flex-direction: column;align-items: center;background-color: white;padding-right: 0.2em;padding-left: 0.2em;position: relative;}#sk-container-id-6 div.sk-item {position: relative;z-index: 1;}#sk-container-id-6 div.sk-parallel {display: flex;align-items: stretch;justify-content: center;background-color: white;position: relative;}#sk-container-id-6 div.sk-item::before, #sk-container-id-6 div.sk-parallel-item::before {content: \"\";position: absolute;border-left: 1px solid gray;box-sizing: border-box;top: 0;bottom: 0;left: 50%;z-index: -1;}#sk-container-id-6 div.sk-parallel-item {display: flex;flex-direction: column;z-index: 1;position: relative;background-color: white;}#sk-container-id-6 div.sk-parallel-item:first-child::after {align-self: flex-end;width: 50%;}#sk-container-id-6 div.sk-parallel-item:last-child::after {align-self: flex-start;width: 50%;}#sk-container-id-6 div.sk-parallel-item:only-child::after {width: 0;}#sk-container-id-6 div.sk-dashed-wrapped {border: 1px dashed gray;margin: 0 0.4em 0.5em 0.4em;box-sizing: border-box;padding-bottom: 0.4em;background-color: white;}#sk-container-id-6 div.sk-label label {font-family: monospace;font-weight: bold;display: inline-block;line-height: 1.2em;}#sk-container-id-6 div.sk-label-container {text-align: center;}#sk-container-id-6 div.sk-container {/* jupyter's `normalize.less` sets `[hidden] { display: none; }` but bootstrap.min.css set `[hidden] { display: none !important; }` so we also need the `!important` here to be able to override the default hidden behavior on the sphinx rendered scikit-learn.org. See: https://github.com/scikit-learn/scikit-learn/issues/21755 */display: inline-block !important;position: relative;}#sk-container-id-6 div.sk-text-repr-fallback {display: none;}</style><div id=\"sk-container-id-6\" class=\"sk-top-container\"><div class=\"sk-text-repr-fallback\"><pre>Pipeline(steps=[(&#x27;countvectorizer&#x27;, CountVectorizer(ngram_range=(1, 2))),\n",
       "                (&#x27;svc&#x27;, SVC())])</pre><b>In a Jupyter environment, please rerun this cell to show the HTML representation or trust the notebook. <br />On GitHub, the HTML representation is unable to render, please try loading this page with nbviewer.org.</b></div><div class=\"sk-container\" hidden><div class=\"sk-item sk-dashed-wrapped\"><div class=\"sk-label-container\"><div class=\"sk-label sk-toggleable\"><input class=\"sk-toggleable__control sk-hidden--visually\" id=\"sk-estimator-id-16\" type=\"checkbox\" ><label for=\"sk-estimator-id-16\" class=\"sk-toggleable__label sk-toggleable__label-arrow\">Pipeline</label><div class=\"sk-toggleable__content\"><pre>Pipeline(steps=[(&#x27;countvectorizer&#x27;, CountVectorizer(ngram_range=(1, 2))),\n",
       "                (&#x27;svc&#x27;, SVC())])</pre></div></div></div><div class=\"sk-serial\"><div class=\"sk-item\"><div class=\"sk-estimator sk-toggleable\"><input class=\"sk-toggleable__control sk-hidden--visually\" id=\"sk-estimator-id-17\" type=\"checkbox\" ><label for=\"sk-estimator-id-17\" class=\"sk-toggleable__label sk-toggleable__label-arrow\">CountVectorizer</label><div class=\"sk-toggleable__content\"><pre>CountVectorizer(ngram_range=(1, 2))</pre></div></div></div><div class=\"sk-item\"><div class=\"sk-estimator sk-toggleable\"><input class=\"sk-toggleable__control sk-hidden--visually\" id=\"sk-estimator-id-18\" type=\"checkbox\" ><label for=\"sk-estimator-id-18\" class=\"sk-toggleable__label sk-toggleable__label-arrow\">SVC</label><div class=\"sk-toggleable__content\"><pre>SVC()</pre></div></div></div></div></div></div></div>"
      ],
      "text/plain": [
       "Pipeline(steps=[('countvectorizer', CountVectorizer(ngram_range=(1, 2))),\n",
       "                ('svc', SVC())])"
      ]
     },
     "execution_count": 195,
     "metadata": {},
     "output_type": "execute_result"
    }
   ],
   "source": [
    "# Fit\n",
    "pipeline.fit(X_train, y_train)"
   ]
  },
  {
   "cell_type": "code",
   "execution_count": 196,
   "id": "79c756f4-b01c-42d5-9c95-ae4758c82c11",
   "metadata": {},
   "outputs": [],
   "source": [
    "#preds\n",
    "preds = pipeline.predict(X_val).tolist()"
   ]
  },
  {
   "cell_type": "code",
   "execution_count": 198,
   "id": "a5141adc-21f4-4044-bc3f-77b4ef2ac4d6",
   "metadata": {},
   "outputs": [],
   "source": [
    "true = y_val.to_list()"
   ]
  },
  {
   "cell_type": "code",
   "execution_count": 200,
   "id": "09711e25-d58d-4e2e-a9ce-30fbb313e41f",
   "metadata": {},
   "outputs": [],
   "source": [
    "from sklearn.metrics import f1_score"
   ]
  },
  {
   "cell_type": "markdown",
   "id": "5a3ffafc-f843-4eed-86d3-c03db0529e43",
   "metadata": {},
   "source": [
    "## Gotta do cross-validation; scores range from .8 - .95 "
   ]
  },
  {
   "cell_type": "code",
   "execution_count": 201,
   "id": "890904d6-3d94-4b04-9b0e-6345a9f87c37",
   "metadata": {},
   "outputs": [
    {
     "data": {
      "text/plain": [
       "0.9500000000000001"
      ]
     },
     "execution_count": 201,
     "metadata": {},
     "output_type": "execute_result"
    }
   ],
   "source": [
    "f1_score(true, preds, average='micro')"
   ]
  }
 ],
 "metadata": {
  "kernelspec": {
   "display_name": "Python 3 (ipykernel)",
   "language": "python",
   "name": "python3"
  },
  "language_info": {
   "codemirror_mode": {
    "name": "ipython",
    "version": 3
   },
   "file_extension": ".py",
   "mimetype": "text/x-python",
   "name": "python",
   "nbconvert_exporter": "python",
   "pygments_lexer": "ipython3",
   "version": "3.10.6"
  }
 },
 "nbformat": 4,
 "nbformat_minor": 5
}
