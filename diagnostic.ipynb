{
 "cells": [
  {
   "cell_type": "code",
   "execution_count": 1,
   "metadata": {},
   "outputs": [],
   "source": [
    "import json\n",
    "import numpy as np"
   ]
  },
  {
   "cell_type": "code",
   "execution_count": 2,
   "metadata": {},
   "outputs": [
    {
     "data": {
      "text/plain": [
       "{'PHQ-9': {'filename': 'phq-9.json', 'topic': 'depression'},\n",
       " 'GAD-7': {'filename': 'gad-7.json', 'topic': 'anxiety'},\n",
       " 'ASRS-5': {'filename': 'asrs-5.json', 'topic': 'adhd'}}"
      ]
     },
     "execution_count": 2,
     "metadata": {},
     "output_type": "execute_result"
    }
   ],
   "source": [
    "def json_loader(folder, filename):\n",
    "    with open(folder+filename) as fh:\n",
    "        file = json.load(fh)\n",
    "    return file\n",
    "\n",
    "questionnaire_loader = lambda name: json_loader(\"questionnaires/\", name)\n",
    "\n",
    "index = questionnaire_loader(\"index.json\")\n",
    "index"
   ]
  },
  {
   "cell_type": "code",
   "execution_count": 3,
   "metadata": {},
   "outputs": [],
   "source": [
    "def ask(question, scale):\n",
    "    print(question)\n",
    "    print(\"\\n\".join([f\"{score} - {word}\" for word, score in scale.items()]))\n",
    "    print()\n",
    "    possible_answers = set(scale.values())\n",
    "    output = None\n",
    "    while output is None:\n",
    "        try:\n",
    "            answer = int(input(\"Answer:\"))\n",
    "            if answer in possible_answers: output = answer\n",
    "            else: raise(ValueError)\n",
    "        except:\n",
    "            print(\"Not a valid answer, please enter an integer from the list of possible responses.\\n\")\n",
    "    return output\n",
    "\n",
    "def evaluate_section(section, type=\"list\"):\n",
    "    prefix, questions, scale = section[\"prefix\"], section[\"questions\"], section[\"scale\"]\n",
    "    results = [ask(\" \".join([prefix, q]), scale) for q in questions]\n",
    "    match type:\n",
    "        case \"list\": return results\n",
    "        case \"sum\": return np.sum(results)"
   ]
  },
  {
   "cell_type": "code",
   "execution_count": 4,
   "metadata": {},
   "outputs": [],
   "source": [
    "def PHQ9(filename=\"phq-9.json\"):\n",
    "    questionnaire = questionnaire_loader(filename)\n",
    "    sections = questionnaire[\"sections\"]\n",
    "    scoring_functions = questionnaire[\"scoring\"]\n",
    "    \n",
    "    #  SECTION 1 - Get responses to section 1 questions\n",
    "    s1 = sections[0]\n",
    "    s1_labels = {v: k for k, v in s1[\"scale\"].items()}\n",
    "    s1_responses = evaluate_section(s1)\n",
    "    s1_total = np.sum(s1_responses)\n",
    "    s1_scoring = scoring_functions[0]\n",
    "\n",
    "    #  SECTION 2 - If any responses positive in section 1, complete section 2\n",
    "    s2 = sections[1]\n",
    "    s2_labels = {v: k for k, v in s2[\"scale\"].items()}\n",
    "    s2_response  = evaluate_section(s2, \"sum\") if any(s1_responses) else 0\n",
    "\n",
    "    #  SEVERITY AND ACTION - Use scale to get severity of symptoms and recommended action\n",
    "    severity, action = \"\", \"\"\n",
    "    scoring_ranges = [range(a, b) for a, b in s1_scoring[\"ranges\"]]\n",
    "    severity_scale = [severity for severity in s1_scoring[\"severity\"]]\n",
    "    action_scale = [action for action in s1_scoring[\"action\"]]\n",
    "    for i, score_range in enumerate(scoring_ranges):\n",
    "        if s1_total in score_range:\n",
    "            severity = severity_scale[i]\n",
    "            action = action_scale[i]\n",
    "            break\n",
    "\n",
    "    #  MDD CHECK - Check for Major Depressive Disorder, or other depressive syndromes\n",
    "    mdd, other = False, False\n",
    "    if s1_responses[0] >= 2 or s1_responses[1] >= 2:\n",
    "        n_more_than_half = len([i for i in s1_responses if i >= 2])\n",
    "        if n_more_than_half >= 5: mdd = True\n",
    "        elif n_more_than_half >= 2: other = True\n",
    "\n",
    "    #  PRINT RESULTS - Format results to be readable\n",
    "    print(f\"Depression Severity: {severity}\")\n",
    "    print(f\"Recommended action: {action}\")\n",
    "    print(f\"Functional health: {s2_labels[s2_response]}\") \n",
    "    if mdd: print(f\"! Major Depressive Disorder suggested\")\n",
    "    if other: print(f\"! Major depressive disorder not suggested, but other depressive syndrome suggested\")"
   ]
  },
  {
   "cell_type": "code",
   "execution_count": 5,
   "metadata": {},
   "outputs": [],
   "source": [
    "def GAD7(filename=\"gad-7.json\"):\n",
    "    questionnaire = questionnaire_loader(filename)\n",
    "    sections = questionnaire[\"sections\"]\n",
    "    scoring_functions = questionnaire[\"scoring\"]\n",
    "    \n",
    "    #  SECTION 1 - Get responses to section 1 questions\n",
    "    s1 = sections[0]\n",
    "    s1_labels = {v: k for k, v in s1[\"scale\"].items()}\n",
    "    s1_responses = evaluate_section(s1)\n",
    "    s1_total = np.sum(s1_responses)\n",
    "    s1_scoring = scoring_functions[0]\n",
    "\n",
    "    #  SECTION 2 - If any responses positive in section 1, complete section 2\n",
    "    s2 = sections[1]\n",
    "    s2_labels = {v: k for k, v in s2[\"scale\"].items()}\n",
    "    s2_response  = evaluate_section(s2, \"sum\") if any(s1_responses) else 0\n",
    "\n",
    "    #  SEVERITY - Use scale to get severity of symptoms\n",
    "    severity = \"\"\n",
    "    scoring_ranges = [range(a, b) for a, b in s1_scoring[\"ranges\"]]\n",
    "    severity_scale = [severity for severity in s1_scoring[\"severity\"]]\n",
    "    for i, score_range in enumerate(scoring_ranges):\n",
    "        if s1_total in score_range:\n",
    "            severity = severity_scale[i]\n",
    "            break\n",
    "\n",
    "    #  PRINT RESULTS - Format results to be readable\n",
    "    print(f\"Anxiety Severity: {severity}\")\n",
    "    print(f\"Functional health: {s2_labels[s2_response]}\")"
   ]
  },
  {
   "cell_type": "code",
   "execution_count": 6,
   "metadata": {},
   "outputs": [],
   "source": [
    "def ASRS5(filename=\"asrs-5.json\"):\n",
    "    questionnaire = questionnaire_loader(filename)\n",
    "    sections = questionnaire[\"sections\"]\n",
    "    scoring_functions = questionnaire[\"scoring\"]\n",
    "    \n",
    "    #  SECTION 1 - Get responses to section 1 questions\n",
    "    s1 = sections[0]\n",
    "    s1_labels = {v: k for k, v in s1[\"scale\"].items()}\n",
    "    s1_responses = evaluate_section(s1)\n",
    "    s1_total = np.sum(s1_responses)\n",
    "    s1_scoring = scoring_functions[0]\n",
    "\n",
    "    #  SEVERITY - Use scale to check if user screens positive\n",
    "    result = None\n",
    "    scoring_ranges = [range(a, b) for a, b in s1_scoring[\"ranges\"]]\n",
    "    severity_scale = [outcome for outcome in s1_scoring[\"severity\"]]\n",
    "    for i, score_range in enumerate(scoring_ranges):\n",
    "        if s1_total in score_range:\n",
    "            result = severity_scale[i]\n",
    "            break\n",
    "\n",
    "    #  PRINT RESULTS - Format results to be readable\n",
    "    print(f\"ADHD Screening: {result}\")"
   ]
  }
 ],
 "metadata": {
  "kernelspec": {
   "display_name": "Python 3",
   "language": "python",
   "name": "python3"
  },
  "language_info": {
   "codemirror_mode": {
    "name": "ipython",
    "version": 3
   },
   "file_extension": ".py",
   "mimetype": "text/x-python",
   "name": "python",
   "nbconvert_exporter": "python",
   "pygments_lexer": "ipython3",
   "version": "3.10.6"
  },
  "orig_nbformat": 4
 },
 "nbformat": 4,
 "nbformat_minor": 2
}
