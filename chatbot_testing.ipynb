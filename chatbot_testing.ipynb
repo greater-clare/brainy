{
 "cells": [
  {
   "cell_type": "code",
   "execution_count": 1,
   "metadata": {},
   "outputs": [],
   "source": [
    "import re"
   ]
  },
  {
   "cell_type": "code",
   "execution_count": 2,
   "metadata": {},
   "outputs": [],
   "source": [
    "def clean_corpus(chat_export_file):\n",
    "    \"\"\"\n",
    "    Prepare a WhatsApp chat export for training with chatterbot.\n",
    "    \"\"\"\n",
    "    message_corpus = remove_chat_metadata(chat_export_file)\n",
    "    cleaned_corpus = remove_non_message_text(message_corpus)\n",
    "    return cleaned_corpus\n",
    "\n",
    "def remove_chat_metadata(chat_export_file):\n",
    "    \"\"\"\n",
    "    Remove WhatsApp chat metadata.\n",
    "\n",
    "    WhatsApp chat exports come with metadata about each message:\n",
    "\n",
    "     date    time    username  message\n",
    "    ---------------------------------------\n",
    "    8/26/22, 17:47 - Jane Doe: Message text\n",
    "\n",
    "    This function removes all the metadata up to the text of each message.\n",
    "\n",
    "    Args:\n",
    "        chat_export_file (str): The name of the chat export file\n",
    "\n",
    "    Returns:\n",
    "        tuple: The text of each message in the conversation\n",
    "    \"\"\"\n",
    "    date_time = r\"(\\d+\\/\\d+\\/\\d+,\\s\\d+:\\d+)\"  # e.g. \"8/26/22, 17:47\"\n",
    "    dash_whitespace = r\"\\s-\\s\"  # \" - \"\n",
    "    username = r\"([\\w\\s]+)\"  # e.g. \"Jane Doe\"\n",
    "    metadata_end = r\":\\s\"  # \": \"\n",
    "    # pattern = date_time + dash_whitespace + username + metadata_end\n",
    "    # pattern = r\"\\[(.*?)\\][^:]*:\"\n",
    "    pattern = r\"\\[(.*?)\\]\\s*([^:]+):\"\n",
    "\n",
    "    cleaned_corpus = \"\"\n",
    "    with open(chat_export_file, \"r\") as corpus_file:\n",
    "        for line in corpus_file.read():\n",
    "            # content = line.read()\n",
    "            cleaned_corpus += re.sub(pattern, \"\", line)\n",
    "    return tuple(cleaned_corpus.split(\"\\n\"))\n",
    "\n",
    "def remove_non_message_text(export_text_lines):\n",
    "    \"\"\"\n",
    "    Remove conversation-irrelevant text from chat export.\n",
    "\n",
    "    WhatsApp chat exports come with a standardized intro line,\n",
    "    and an empty line at the end of the file.\n",
    "    Text exports also replace media messages with text that isn't\n",
    "    relevant for the conversation. This function removes all that.\n",
    "\n",
    "    Args:\n",
    "        export_text_lines (tuple): All lines from the export file\n",
    "\n",
    "    Returns:\n",
    "        tuple: Messages that are a relevant part of the conversation\n",
    "    \"\"\"\n",
    "    messages = export_text_lines[1:-1]\n",
    "\n",
    "    filter_out_msgs = (\"<Media omitted>\",)\n",
    "    return tuple((msg for msg in messages if msg not in filter_out_msgs))"
   ]
  },
  {
   "cell_type": "code",
   "execution_count": 3,
   "metadata": {},
   "outputs": [],
   "source": [
    "# # pattern = r\"^([^()]+)\" # outside of ()\n",
    "# pattern = r\"\\((.*?)\\)\" # inside of and including ()\n",
    "\n",
    "# cleaned_corpus = []\n",
    "# with open(\"clinician_one.txt\", \"r\") as corpus_file:\n",
    "#     splits = corpus_file.read().split(\"\\n\")\n",
    "#     for line in splits:\n",
    "#         if line[:11] == \"Clinician: \":\n",
    "#             clean_line = re.sub(pattern, \"\", line[11:])\n",
    "#             cleaned_corpus.append(clean_line)\n",
    "\n",
    "# corpus_file.close()\n",
    "\n",
    "# # cleaned_corpus\n",
    "# # with open(\"chat.txt\", \"w\") as corpus_file:\n",
    "# with open(\"chat.txt\", \"w\") as fout:\n",
    "#     for line in cleaned_corpus:\n",
    "#         fout.write(line + \"\\n\")\n",
    "\n",
    "# fout.close()"
   ]
  },
  {
   "cell_type": "code",
   "execution_count": 4,
   "metadata": {},
   "outputs": [],
   "source": [
    "import json"
   ]
  },
  {
   "cell_type": "code",
   "execution_count": 5,
   "metadata": {},
   "outputs": [
    {
     "data": {
      "text/plain": [
       "{'name': 'PHQ-9',\n",
       " 'description': None,\n",
       " 'sections': [{'number': 1,\n",
       "   'scale': {'Not at all': 0,\n",
       "    'Several Days': 1,\n",
       "    'More than half the days': 2,\n",
       "    'Nearly every day': 3},\n",
       "   'prefix': 'Over the last two weeks, how often have you been bothered by',\n",
       "   'questions': ['having little interest or pleasure in doing things?',\n",
       "    'feeling down, depressed, or hopeless?',\n",
       "    'having trouble falling or staying asleep, or sleeping too much?',\n",
       "    'feeling tired or having little energy?',\n",
       "    'having poor appetite or overeating?',\n",
       "    'feeling bad about yourself - or that you are a failure or have let yourself or your family down?',\n",
       "    'having trouble concentrating on things, such as reading the newspaper or watching television?',\n",
       "    'moving or speaking so slowly that other people could have noticed? Or the opposite – being so fidgety or restless that you have been moving around a lot more than usual?',\n",
       "    'having thoughts that you would be better off dead or of hurting yourself in some way?']},\n",
       "  {'number': 2,\n",
       "   'scale': {'Not difficult at all': 0,\n",
       "    'Somewhat difficult': 1,\n",
       "    'Very difficult': 2,\n",
       "    'Extremely difficult': 3},\n",
       "   'prefix': '',\n",
       "   'questions': ['How difficult have these problems made it for you to do your work, take care of things at home, or get along with other people?']}],\n",
       " 'scoring': None,\n",
       " 'source': 'https://www2.gov.bc.ca/assets/gov/health/practitioner-pro/bc-guidelines/depression_patient_health_questionnaire.pdf',\n",
       " 'accessed': '2023-03-25'}"
      ]
     },
     "execution_count": 5,
     "metadata": {},
     "output_type": "execute_result"
    }
   ],
   "source": [
    "data = json.load(open(\"data/phq-9.json\"))\n",
    "data\n",
    "# for i in range(len(data['sections'])):\n",
    "#     # print (i, len(data['sections'][i]['questions']))\n",
    "#     print (i, data['sections'][i]['questions'])\n",
    "\n",
    "# print(len(data['sections'][0]))\n",
    "# data['sections'][0]#['questions']"
   ]
  },
  {
   "cell_type": "code",
   "execution_count": 6,
   "metadata": {},
   "outputs": [
    {
     "data": {
      "text/plain": [
       "{'name': 'PHQ-9',\n",
       " 'description': None,\n",
       " 'sections': [{'number': 1,\n",
       "   'scale': {'Not at all': 0,\n",
       "    'Several Days': 1,\n",
       "    'More than half the days': 2,\n",
       "    'Nearly every day': 3},\n",
       "   'prefix': 'Over the last two weeks, how often have you been bothered by',\n",
       "   'questions': ['having little interest or pleasure in doing things?',\n",
       "    'feeling down, depressed, or hopeless?',\n",
       "    'having trouble falling or staying asleep, or sleeping too much?',\n",
       "    'feeling tired or having little energy?',\n",
       "    'having poor appetite or overeating?',\n",
       "    'feeling bad about yourself - or that you are a failure or have let yourself or your family down?',\n",
       "    'having trouble concentrating on things, such as reading the newspaper or watching television?',\n",
       "    'moving or speaking so slowly that other people could have noticed? Or the opposite – being so fidgety or restless that you have been moving around a lot more than usual?',\n",
       "    'having thoughts that you would be better off dead or of hurting yourself in some way?']},\n",
       "  {'number': 2,\n",
       "   'scale': {'Not difficult at all': 0,\n",
       "    'Somewhat difficult': 1,\n",
       "    'Very difficult': 2,\n",
       "    'Extremely difficult': 3},\n",
       "   'prefix': '',\n",
       "   'questions': ['How difficult have these problems made it for you to do your work, take care of things at home, or get along with other people?']}],\n",
       " 'scoring': None,\n",
       " 'source': 'https://www2.gov.bc.ca/assets/gov/health/practitioner-pro/bc-guidelines/depression_patient_health_questionnaire.pdf',\n",
       " 'accessed': '2023-03-25'}"
      ]
     },
     "execution_count": 6,
     "metadata": {},
     "output_type": "execute_result"
    }
   ],
   "source": [
    "import json\n",
    "\n",
    "def json_loader(folder, filename):\n",
    "    with open(folder + filename) as fh:\n",
    "        file = json.load(fh)\n",
    "    return file\n",
    "\n",
    "# questionnaire_loader = lambda name: json_loader(\"data/phq-9.json\", name)\n",
    "\n",
    "# index = questionnaire_loader(\"data/phq-9.json\")\n",
    "# index = json_loader(\"data/phq-9.json\")\n",
    "data = json.load(open(\"data/phq-9.json\"))\n",
    "data"
   ]
  },
  {
   "cell_type": "code",
   "execution_count": 7,
   "metadata": {},
   "outputs": [],
   "source": [
    "int_answers = []\n",
    "\n",
    "def ask(question, scale, answers_list):\n",
    "    print(question)\n",
    "    print(\"\\n\".join([f\"{word}: {score}\" for word, score in scale.items()]))\n",
    "    possible_answers = set(scale.values())\n",
    "    output = None\n",
    "    while output is None:\n",
    "        try:\n",
    "            answer = int(input(\"Answer: \"))\n",
    "            if answer in possible_answers:\n",
    "                output = answer\n",
    "                answers_list.append(output)\n",
    "            else: raise(ValueError)\n",
    "        except:\n",
    "            print(\"Not a valid answer, please enter an integer from the list of possible responses.\")\n",
    "    return answers_list"
   ]
  },
  {
   "cell_type": "code",
   "execution_count": 8,
   "metadata": {},
   "outputs": [],
   "source": [
    "# int_answers = []\n",
    "\n",
    "# for i in range(len(data[\"sections\"])):\n",
    "#     section = data[\"sections\"][i]\n",
    "#     for quest_id in range(len(section['questions'])):\n",
    "#         ask(section[\"prefix\"] + \" \" + section['questions'][quest_id], section[\"scale\"], int_answers)\n",
    "\n",
    "# int_answers"
   ]
  },
  {
   "cell_type": "code",
   "execution_count": 9,
   "metadata": {},
   "outputs": [
    {
     "data": {
      "text/plain": [
       "['What is your full name?',\n",
       " 'My full name is Jane Smith.',\n",
       " 'When and where were you born?',\n",
       " 'I was born in Los Angeles, California on June 12, 1985.',\n",
       " 'What is your occupation?',\n",
       " \"I'm a software engineer.\",\n",
       " 'What are your hobbies and interests?',\n",
       " 'I enjoy reading, hiking, and playing the guitar.',\n",
       " 'Do you have any siblings? If so, how many and what are their names?',\n",
       " 'Yes, I have two siblings. Their names are John and Sarah.',\n",
       " 'What is your favorite book?',\n",
       " \"My favorite book is 'To Kill a Mockingbird' by Harper Lee.\",\n",
       " 'What is your favorite movie?',\n",
       " \"My favorite movie is 'The Shawshank Redemption'.\",\n",
       " 'What is your favorite TV show?',\n",
       " \"My favorite TV show is 'Friends'.\",\n",
       " 'What is your favorite food?',\n",
       " 'My favorite food is sushi.',\n",
       " 'Are you single or in a relationship?',\n",
       " \"I'm currently in a relationship.\",\n",
       " 'Do you have any children? If so, how many and what are their names?',\n",
       " \"No, I don't have any children.\",\n",
       " 'What is your favorite vacation destination?',\n",
       " 'My favorite vacation destination is Hawaii.',\n",
       " 'What is your favorite type of music?',\n",
       " 'I enjoy listening to pop and rock music.',\n",
       " 'What is your favorite sports team?',\n",
       " 'My favorite sports team is the Los Angeles Lakers.',\n",
       " 'What is your favorite animal?',\n",
       " 'My favorite animal is the dolphin.',\n",
       " 'What is your favorite color?',\n",
       " 'My favorite color is blue.',\n",
       " 'What is your favorite type of weather?',\n",
       " 'I love sunny weather with a light breeze.',\n",
       " 'What is your favorite season?',\n",
       " 'My favorite season is fall.',\n",
       " 'What is your favorite holiday?',\n",
       " 'My favorite holiday is Christmas.',\n",
       " 'What is your favorite childhood memory?',\n",
       " 'My favorite childhood memory is going on road trips with my family.',\n",
       " '']"
      ]
     },
     "execution_count": 9,
     "metadata": {},
     "output_type": "execute_result"
    }
   ],
   "source": [
    "CORPUS_FILE = []\n",
    "with open(\"data/chat.txt\", \"r\") as file:\n",
    "    for line in file.read().split(\"\\n\"):\n",
    "        CORPUS_FILE.append(line.strip())\n",
    "\n",
    "CORPUS_FILE"
   ]
  },
  {
   "cell_type": "code",
   "execution_count": 10,
   "metadata": {},
   "outputs": [
    {
     "name": "stdout",
     "output_type": "stream",
     "text": [
      "40\n"
     ]
    }
   ],
   "source": [
    "questions = [    \"What is your full name?\",    \"When and where were you born?\",    \"What is your occupation?\",    \"What are your hobbies and interests?\",    \"Do you have any siblings? If so, how many and what are their names?\",    \"What is your favorite book?\",    \"What is your favorite movie?\",    \"What is your favorite TV show?\",    \"What is your favorite food?\",    \"Are you single or in a relationship?\",    \"Do you have any children? If so, how many and what are their names?\",    \"What is your favorite vacation destination?\",    \"What is your favorite type of music?\",    \"What is your favorite sports team?\",    \"What is your favorite animal?\",    \"What is your favorite color?\",    \"What is your favorite type of weather?\",    \"What is your favorite season?\",    \"What is your favorite holiday?\",    \"What is your favorite childhood memory?\"]\n",
    "responses = [    \"My full name is Jane Smith.\",    \"I was born in Los Angeles, California on June 12, 1985.\",    \"I'm a software engineer.\",    \"I enjoy reading, hiking, and playing the guitar.\",    \"Yes, I have two siblings. Their names are John and Sarah.\",    \"My favorite book is 'To Kill a Mockingbird' by Harper Lee.\",    \"My favorite movie is 'The Shawshank Redemption'.\",    \"My favorite TV show is 'Friends'.\",    \"My favorite food is sushi.\",    \"I'm currently in a relationship.\",    \"No, I don't have any children.\",    \"My favorite vacation destination is Hawaii.\",    \"I enjoy listening to pop and rock music.\",    \"My favorite sports team is the Los Angeles Lakers.\",    \"My favorite animal is the dolphin.\",    \"My favorite color is blue.\",    \"I love sunny weather with a light breeze.\",    \"My favorite season is fall.\",    \"My favorite holiday is Christmas.\",    \"My favorite childhood memory is going on road trips with my family.\"]\n",
    "\n",
    "training_list = []\n",
    "for i in range(len(questions)):\n",
    "    training_list.append(questions[i])\n",
    "    training_list.append(responses[i])\n",
    "\n",
    "print(len(training_list))\n",
    "training_list[:10]\n",
    "\n",
    "with open(\"data/chat.txt\", \"w\") as fout:\n",
    "    for line in training_list:\n",
    "        fout.write(line + \"\\n\")\n",
    "\n",
    "fout.close()"
   ]
  },
  {
   "cell_type": "code",
   "execution_count": 11,
   "metadata": {},
   "outputs": [],
   "source": [
    "# # pattern = r\"^([^()]+)\" # outside of ()\n",
    "pattern = r\"\\((.*?)\\)\" # inside of and including ()\n",
    "\n",
    "# cleaned_corpus = []\n",
    "# with open(\"clinician_one.txt\", \"r\") as corpus_file:\n",
    "#     splits = corpus_file.read().split(\"\\n\")\n",
    "#     for line in splits:\n",
    "#         if line[:11] == \"Clinician: \":\n",
    "#             clean_line = re.sub(pattern, \"\", line[11:])\n",
    "#             cleaned_corpus.append(clean_line)\n"
   ]
  },
  {
   "cell_type": "code",
   "execution_count": 12,
   "metadata": {},
   "outputs": [
    {
     "data": {
      "text/plain": [
       "[\"I'm here for you.\",\n",
       " \"You're not alone in this.\",\n",
       " \"I'm sorry you're going through this.\",\n",
       " \"I can't imagine how hard this must be for you.\",\n",
       " 'Is there anything I can do to help?',\n",
       " \"Let's take it one day at a time.\",\n",
       " \"You're strong and you can get through this.\",\n",
       " 'I believe in you.',\n",
       " \"You're doing the best you can.\",\n",
       " \"It's okay to not be okay.\"]"
      ]
     },
     "execution_count": 12,
     "metadata": {},
     "output_type": "execute_result"
    }
   ],
   "source": [
    "supportive_responses = [    \"I'm here for you.\",    \"You're not alone in this.\",    \"I'm sorry you're going through this.\",    \"I can't imagine how hard this must be for you.\",    \"Is there anything I can do to help?\",    \"Let's take it one day at a time.\",    \"You're strong and you can get through this.\",    \"I believe in you.\",    \"You're doing the best you can.\",    \"It's okay to not be okay.\",    \"I'm proud of you for reaching out.\",    \"You're a survivor.\",    \"You're important to me.\",    \"I care about you.\",    \"I'm here to listen.\",    \"You're not a burden.\",    \"You're not weak for asking for help.\",    \"I'm glad you're here.\",    \"I'm grateful to have you as a friend.\",    \"You're not alone, I'm here to support you.\",    \"I can understand why you're feeling this way.\",    \"You're not the only one who has gone through this.\",    \"We can get through this together.\",    \"You're not defined by your struggles.\",    \"You're worthy of love and support.\",    \"I'm sending you positive thoughts and vibes.\",    \"You're important and valued.\",    \"You're not alone, we're all here for you.\",    \"I'm sorry this is happening to you.\",    \"I'm here to support you in any way I can.\",    \"You're not a failure.\",    \"You're not alone, there are people who care about you.\",    \"It's okay to take time for yourself.\",    \"You're allowed to feel however you feel.\",    \"You're not alone, others have gone through this too.\",    \"You're not alone, I'm here to help you get through this.\",    \"I'm proud of you for taking steps to take care of yourself.\",    \"You're not alone, we'll face this together.\",    \"I'm here to support you and listen to you.\",    \"It's okay to ask for help.\",    \"You're not alone, I'm here to stand by your side.\",    \"You're not alone, I'm here to walk with you through this.\",    \"You're not alone, I'm here to offer a shoulder to cry on.\",    \"I'm here to help you in any way I can.\",    \"You're not alone, I'm here to support you through this.\",    \"You're not alone, we'll get through this together.\",    \"I'm here to help you find resources and support.\",    \"You're not alone, I'm here to offer my love and support.\",    \"You're not alone, I'm here to be a listening ear.\",    \"You're not alone, I'm here to remind you of your strength.\",    \"You're not alone, I'm here to help you see your worth.\"]\n",
    "supportive_responses[:10]"
   ]
  },
  {
   "cell_type": "code",
   "execution_count": 13,
   "metadata": {},
   "outputs": [],
   "source": [
    "# cleaned_lines = []\n",
    "# pattern = r\"^.*: \" # doesn't include metadata\n",
    "# with open(\"data/chat1.txt\", \"r\") as file:\n",
    "#     for line in file.readlines()[3:]:\n",
    "#         cleaned_lines.append(re.sub(pattern, \"\", line).replace(\"\\n\", \"\").strip())\n",
    "\n",
    "# cleaned_lines[:10]\n",
    "\n",
    "with open(\"data/bot_responses.txt\", \"w\") as fout:\n",
    "    for line in supportive_responses:\n",
    "        fout.write(line + \"\\n\")\n",
    "\n",
    "fout.close()"
   ]
  },
  {
   "cell_type": "code",
   "execution_count": 14,
   "metadata": {},
   "outputs": [
    {
     "ename": "TypeError",
     "evalue": "'NoneType' object is not callable",
     "output_type": "error",
     "traceback": [
      "\u001b[0;31m---------------------------------------------------------------------------\u001b[0m",
      "\u001b[0;31mTypeError\u001b[0m                                 Traceback (most recent call last)",
      "Cell \u001b[0;32mIn[14], line 1\u001b[0m\n\u001b[0;32m----> 1\u001b[0m \u001b[39mfrom\u001b[39;00m \u001b[39mchatbot_diagnostics\u001b[39;00m \u001b[39mimport\u001b[39;00m \u001b[39m*\u001b[39m\n\u001b[1;32m      2\u001b[0m \u001b[39mimport\u001b[39;00m \u001b[39mjson\u001b[39;00m\n\u001b[1;32m      4\u001b[0m PHQ9(filename \u001b[39m=\u001b[39m \u001b[39m\"\u001b[39m\u001b[39mphq-9.json\u001b[39m\u001b[39m\"\u001b[39m)\n",
      "File \u001b[0;32m~/Desktop/data_science/data_science_projects/brainyhack-llm/chatbot_diagnostics.py:19\u001b[0m\n\u001b[1;32m     14\u001b[0m index \u001b[39m=\u001b[39m questionnaire_loader(\u001b[39m\"\u001b[39m\u001b[39mindex.json\u001b[39m\u001b[39m\"\u001b[39m)\n\u001b[1;32m     15\u001b[0m \u001b[39m# exits = set(\"quit\", \":q\", \"exit\") # added chat escape queues\u001b[39;00m\n\u001b[1;32m     16\u001b[0m \u001b[39m# exits = [\"quit\", \":q\", \"exit\"] # added chat escape queues\u001b[39;00m\n\u001b[1;32m     17\u001b[0m \n\u001b[1;32m     18\u001b[0m \u001b[39m### api info\u001b[39;00m\n\u001b[0;32m---> 19\u001b[0m openai\u001b[39m.\u001b[39;49mapi_key(\u001b[39m\"\u001b[39;49m\u001b[39msk-3fEcpKsMxR3YchN0QrKPT3BlbkFJ7XrmpJ2zWmImRRH99ox0\u001b[39;49m\u001b[39m\"\u001b[39;49m)\n\u001b[1;32m     20\u001b[0m messages \u001b[39m=\u001b[39m [{\u001b[39m\"\u001b[39m\u001b[39mrole\u001b[39m\u001b[39m\"\u001b[39m:\u001b[39m\"\u001b[39m\u001b[39msystem\u001b[39m\u001b[39m\"\u001b[39m, \u001b[39m\"\u001b[39m\u001b[39mcontent\u001b[39m\u001b[39m\"\u001b[39m:\u001b[39m\"\u001b[39m\u001b[39mYou\u001b[39m\u001b[39m'\u001b[39m\u001b[39mre a kind therapist whose replies are under 30 words\u001b[39m\u001b[39m\"\u001b[39m}]\n\u001b[1;32m     22\u001b[0m \u001b[39m### dict to become csv\u001b[39;00m\n",
      "\u001b[0;31mTypeError\u001b[0m: 'NoneType' object is not callable"
     ]
    }
   ],
   "source": [
    "from chatbot_diagnostics import *\n",
    "import json\n",
    "\n",
    "PHQ9(filename = \"phq-9.json\")"
   ]
  },
  {
   "cell_type": "code",
   "execution_count": 16,
   "metadata": {},
   "outputs": [
    {
     "name": "stdout",
     "output_type": "stream",
     "text": [
      "{'0': 'never', '1': 'sometimes', '2': 'sdf', '3': 'nasdf'}\n"
     ]
    }
   ],
   "source": [
    "test_dict = {\n",
    "    \"0\": \"never\",\n",
    "    \"1\": \"sometimes\",\n",
    "    \"2\": \"sdf\",\n",
    "    \"3\": \"nasdf\",\n",
    "}\n",
    "\n",
    "print(test_dict)"
   ]
  }
 ],
 "metadata": {
  "kernelspec": {
   "display_name": "base",
   "language": "python",
   "name": "python3"
  },
  "language_info": {
   "codemirror_mode": {
    "name": "ipython",
    "version": 3
   },
   "file_extension": ".py",
   "mimetype": "text/x-python",
   "name": "python",
   "nbconvert_exporter": "python",
   "pygments_lexer": "ipython3",
   "version": "3.11.0"
  },
  "orig_nbformat": 4
 },
 "nbformat": 4,
 "nbformat_minor": 2
}
